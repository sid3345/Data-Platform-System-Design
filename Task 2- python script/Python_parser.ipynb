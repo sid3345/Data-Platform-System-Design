{
 "cells": [
  {
   "cell_type": "code",
   "execution_count": 9,
   "metadata": {},
   "outputs": [
    {
     "name": "stdout",
     "output_type": "stream",
     "text": [
      "     ID  Longitude   Latitude   time  Temperature\n",
      "0     1   7.969816  44.929654  00:25         17.4\n",
      "1     1   7.969816  44.929654  01:25         17.2\n",
      "2     1   7.969816  44.929654  02:25         17.5\n",
      "3     1   7.969816  44.929654  03:25         17.7\n",
      "4     1   7.969816  44.929654  04:25         16.7\n",
      "..  ...        ...        ...    ...          ...\n",
      "95  629  16.403780  39.726630  05:51         20.0\n",
      "96  629  16.403780  39.726630  06:51         21.6\n",
      "97  629  16.403780  39.726630  07:51         24.2\n",
      "98  629  16.403780  39.726630  08:51         25.3\n",
      "99  629  16.403780  39.726630  09:51         27.7\n",
      "\n",
      "[100 rows x 5 columns]\n"
     ]
    }
   ],
   "source": [
    "# Importing pandas library\n",
    "import pandas as pd\n",
    "\n",
    "# Load the data of Sensors.csv into a Dataframe df\n",
    "df = pd.read_csv('C:/Users/i0001440/Siddharth Sinha/Personal/CMCC tasks/Sensors.csv', sep = ';', decimal=',')\n",
    "\n",
    "# Print the Dataframe\n",
    "print(df)"
   ]
  },
  {
   "cell_type": "code",
   "execution_count": 10,
   "metadata": {},
   "outputs": [
    {
     "name": "stdout",
     "output_type": "stream",
     "text": [
      "    Longitude  Latitude   time  Temperature\n",
      "99   16.40378  39.72663  09:51         27.7\n"
     ]
    }
   ],
   "source": [
    "# extracting max temp\n",
    "max_temp = df.loc[:,['Longitude', 'Latitude', 'time', 'Temperature']].astype({'Temperature':'float'}).nlargest(1, columns=\"Temperature\")\n",
    "# display\n",
    "print(max_temp)"
   ]
  },
  {
   "cell_type": "code",
   "execution_count": 11,
   "metadata": {},
   "outputs": [
    {
     "name": "stdout",
     "output_type": "stream",
     "text": [
      "    Longitude  Latitude   time  Temperature\n",
      "23    7.48009  44.45333  03:37          9.8\n"
     ]
    }
   ],
   "source": [
    "# extracting min temp\n",
    "\n",
    "min_temp = df.loc[:,['Longitude', 'Latitude', 'time', 'Temperature']].nsmallest(1, columns=\"Temperature\")\n",
    "print(min_temp)"
   ]
  },
  {
   "cell_type": "code",
   "execution_count": 12,
   "metadata": {},
   "outputs": [
    {
     "name": "stdout",
     "output_type": "stream",
     "text": [
      "     ID  Longitude  Latitude   time  Temperature\n",
      "70  627   16.14248  38.67795  00:46         21.6\n",
      "71  627   16.14248  38.67795  01:46         21.5\n",
      "72  627   16.14248  38.67795  02:46         21.1\n",
      "73  627   16.14248  38.67795  03:46         20.6\n",
      "74  627   16.14248  38.67795  04:46         21.3\n",
      "75  627   16.14248  38.67795  05:46         21.4\n",
      "76  627   16.14248  38.67795  06:46         23.5\n",
      "77  627   16.14248  38.67795  07:46         25.0\n",
      "78  627   16.14248  38.67795  08:46         26.3\n",
      "79  627   16.14248  38.67795  09:46         26.8\n",
      "80  628   16.43752  38.87020  00:54         20.3\n",
      "81  628   16.43752  38.87020  01:54         20.5\n",
      "82  628   16.43752  38.87020  02:54         19.9\n",
      "83  628   16.43752  38.87020  03:54         20.6\n",
      "84  628   16.43752  38.87020  04:54         20.3\n",
      "85  628   16.43752  38.87020  05:54         22.4\n",
      "86  628   16.43752  38.87020  06:54         22.8\n",
      "87  628   16.43752  38.87020  07:54         23.7\n",
      "88  628   16.43752  38.87020  08:54         25.7\n",
      "89  628   16.43752  38.87020  09:54         26.0\n",
      "90  629   16.40378  39.72663  00:51         19.3\n",
      "91  629   16.40378  39.72663  01:51         19.3\n",
      "92  629   16.40378  39.72663  02:51         19.6\n",
      "93  629   16.40378  39.72663  03:51         19.6\n",
      "94  629   16.40378  39.72663  04:51         20.0\n",
      "95  629   16.40378  39.72663  05:51         20.0\n",
      "96  629   16.40378  39.72663  06:51         21.6\n",
      "97  629   16.40378  39.72663  07:51         24.2\n",
      "98  629   16.40378  39.72663  08:51         25.3\n",
      "99  629   16.40378  39.72663  09:51         27.7\n"
     ]
    }
   ],
   "source": [
    "# the list of values included in the bounding box identified by the vertices (lat, lon): (38, 16) - (40, 18) and the average temperature for each time step \n",
    "df_lat_long =df[(df.Longitude > 16) & (df.Longitude < 18) & (df.Latitude > 38) & (df.Latitude < 40) ]\n",
    "print(df_lat_long)"
   ]
  },
  {
   "cell_type": "code",
   "execution_count": 13,
   "metadata": {},
   "outputs": [
    {
     "name": "stdout",
     "output_type": "stream",
     "text": [
      "     ID  Longitude  Latitude   time  Temperature\n",
      "70  627   16.14248  38.67795  00:46         21.6\n",
      "71  627   16.14248  38.67795  01:46         21.5\n",
      "72  627   16.14248  38.67795  02:46         21.1\n",
      "73  627   16.14248  38.67795  03:46         20.6\n",
      "74  627   16.14248  38.67795  04:46         21.3\n",
      "75  627   16.14248  38.67795  05:46         21.4\n",
      "76  627   16.14248  38.67795  06:46         23.5\n",
      "77  627   16.14248  38.67795  07:46         25.0\n",
      "78  627   16.14248  38.67795  08:46         26.3\n",
      "79  627   16.14248  38.67795  09:46         26.8\n",
      "80  628   16.43752  38.87020  00:54         20.3\n",
      "81  628   16.43752  38.87020  01:54         20.5\n",
      "83  628   16.43752  38.87020  03:54         20.6\n",
      "84  628   16.43752  38.87020  04:54         20.3\n",
      "85  628   16.43752  38.87020  05:54         22.4\n",
      "86  628   16.43752  38.87020  06:54         22.8\n",
      "87  628   16.43752  38.87020  07:54         23.7\n",
      "88  628   16.43752  38.87020  08:54         25.7\n",
      "89  628   16.43752  38.87020  09:54         26.0\n",
      "96  629   16.40378  39.72663  06:51         21.6\n",
      "97  629   16.40378  39.72663  07:51         24.2\n",
      "98  629   16.40378  39.72663  08:51         25.3\n",
      "99  629   16.40378  39.72663  09:51         27.7\n"
     ]
    }
   ],
   "source": [
    "# the list of values detected by the sensors whose average temperature exceeds 20C\n",
    "df_temp = df[df.Temperature > 20]\n",
    "\n",
    "# storing the result in a Results.csv file\n",
    "df_temp.to_csv('C:/Users/i0001440/Siddharth Sinha/Personal/CMCC tasks//Results.csv', index=False)\n",
    "\n",
    "print(df_temp)"
   ]
  }
 ],
 "metadata": {
  "kernelspec": {
   "display_name": "Python 3",
   "language": "python",
   "name": "python3"
  },
  "language_info": {
   "codemirror_mode": {
    "name": "ipython",
    "version": 3
   },
   "file_extension": ".py",
   "mimetype": "text/x-python",
   "name": "python",
   "nbconvert_exporter": "python",
   "pygments_lexer": "ipython3",
   "version": "3.10.11"
  },
  "orig_nbformat": 4
 },
 "nbformat": 4,
 "nbformat_minor": 2
}
